{
  "nbformat": 4,
  "nbformat_minor": 0,
  "metadata": {
    "colab": {
      "name": "Linear Regression using Tensor Flow.ipynb",
      "version": "0.3.2",
      "provenance": [],
      "collapsed_sections": [],
      "include_colab_link": true
    },
    "kernelspec": {
      "name": "python3",
      "display_name": "Python 3"
    }
  },
  "cells": [
    {
      "cell_type": "markdown",
      "metadata": {
        "id": "view-in-github",
        "colab_type": "text"
      },
      "source": [
        "<a href=\"https://colab.research.google.com/github/AshutoshAgrahari/GoogleColab/blob/master/Linear_Regression_using_Tensor_Flow.ipynb\" target=\"_parent\"><img src=\"https://colab.research.google.com/assets/colab-badge.svg\" alt=\"Open In Colab\"/></a>"
      ]
    },
    {
      "metadata": {
        "id": "nQUAZ5-kM2CX",
        "colab_type": "text"
      },
      "cell_type": "markdown",
      "source": [
        "### Linear Regression using Tensor Flow\n",
        "#### Ref: https://machinelearningmastery.com/introduction-python-deep-learning-library-tensorflow/"
      ]
    },
    {
      "metadata": {
        "id": "di3SQEG6MhYE",
        "colab_type": "code",
        "colab": {
          "base_uri": "https://localhost:8080/",
          "height": 34
        },
        "outputId": "81d4164d-9229-4c53-a67d-a35ae13bc590"
      },
      "cell_type": "code",
      "source": [
        "#### Computation with TensorFlow\n",
        "import tensorflow as tf\n",
        "sess = tf.Session()\n",
        "a = tf.constant(10)\n",
        "b = tf.constant(32)\n",
        "print(sess.run(a+b))"
      ],
      "execution_count": 5,
      "outputs": [
        {
          "output_type": "stream",
          "text": [
            "42\n"
          ],
          "name": "stdout"
        }
      ]
    },
    {
      "metadata": {
        "id": "Io07E2b4NHtc",
        "colab_type": "code",
        "colab": {}
      },
      "cell_type": "code",
      "source": [
        "#### Linear Regression with TensorFlow\n",
        "import tensorflow as tf\n",
        "import numpy as np"
      ],
      "execution_count": 0,
      "outputs": []
    },
    {
      "metadata": {
        "id": "BNPEq3IyN2zK",
        "colab_type": "code",
        "colab": {}
      },
      "cell_type": "code",
      "source": [
        "# Create 100 phony x, y data points in NumPy, y = x * 0.1 + 0.3\n",
        "x_data = np.random.rand(100).astype(np.float32)\n",
        "y_data = x_data * 0.1 + 0.3"
      ],
      "execution_count": 0,
      "outputs": []
    },
    {
      "metadata": {
        "id": "1qMjAlgZOfwp",
        "colab_type": "code",
        "colab": {
          "base_uri": "https://localhost:8080/",
          "height": 34
        },
        "outputId": "6325e94d-bfd9-40bc-ab92-d0eeccf5bb18"
      },
      "cell_type": "code",
      "source": [
        "# Try to find values for W and b that compute y_data = W * x_data + b\n",
        "# (We know that W should be 0.1 and b 0.3, but Tensorflow will\n",
        "# figure that out for us.)\n",
        "W = tf.Variable(tf.random.uniform([1],-1.0,1.0))\n",
        "b = tf.Variable(tf.zeros([1]))\n",
        "y = W * x_data + b\n",
        "print(y)"
      ],
      "execution_count": 15,
      "outputs": [
        {
          "output_type": "stream",
          "text": [
            "Tensor(\"add_3:0\", shape=(100,), dtype=float32)\n"
          ],
          "name": "stdout"
        }
      ]
    },
    {
      "metadata": {
        "id": "AS4ywTjAPpv7",
        "colab_type": "code",
        "colab": {}
      },
      "cell_type": "code",
      "source": [
        "# Minimize the mean squared errors.\n",
        "loss = tf.reduce_mean(tf.square(y - y_data))\n",
        "optimizer = tf.train.GradientDescentOptimizer(0.5)\n",
        "train = optimizer.minimize(loss)"
      ],
      "execution_count": 0,
      "outputs": []
    },
    {
      "metadata": {
        "id": "8vOF0rScQL12",
        "colab_type": "code",
        "colab": {}
      },
      "cell_type": "code",
      "source": [
        "# Before starting, initialize the variables.  We will 'run' this first.\n",
        "init = tf.initialize_all_variables()"
      ],
      "execution_count": 0,
      "outputs": []
    },
    {
      "metadata": {
        "id": "JuHnq3_wQiHo",
        "colab_type": "code",
        "colab": {}
      },
      "cell_type": "code",
      "source": [
        "# Launch the graph.\n",
        "sess = tf.Session()\n",
        "sess.run(init)"
      ],
      "execution_count": 0,
      "outputs": []
    },
    {
      "metadata": {
        "id": "AqDJPm5RQvr4",
        "colab_type": "code",
        "colab": {
          "base_uri": "https://localhost:8080/",
          "height": 202
        },
        "outputId": "85c6d10d-4c2c-4392-f3eb-dba1a8aaa694"
      },
      "cell_type": "code",
      "source": [
        "# Fit the line.\n",
        "for step in range(201):\n",
        "  sess.run(train)\n",
        "  if step % 20 == 0:\n",
        "      print(step, sess.run(W),sess.run(b))"
      ],
      "execution_count": 29,
      "outputs": [
        {
          "output_type": "stream",
          "text": [
            "0 [-0.02325249] [0.52513415]\n",
            "20 [0.03605584] [0.33547658]\n",
            "40 [0.07845147] [0.31195524]\n",
            "60 [0.09273838] [0.3040288]\n",
            "80 [0.0975529] [0.30135766]\n",
            "100 [0.09917536] [0.30045754]\n",
            "120 [0.09972212] [0.30015418]\n",
            "140 [0.09990636] [0.30005196]\n",
            "160 [0.09996845] [0.30001754]\n",
            "180 [0.09998937] [0.3000059]\n",
            "200 [0.09999641] [0.300002]\n"
          ],
          "name": "stdout"
        }
      ]
    }
  ]
}