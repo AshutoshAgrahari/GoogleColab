{
  "nbformat": 4,
  "nbformat_minor": 0,
  "metadata": {
    "colab": {
      "name": "Handwritten Recognition using TensorFlow.ipynb",
      "version": "0.3.2",
      "provenance": [],
      "collapsed_sections": [],
      "include_colab_link": true
    },
    "kernelspec": {
      "name": "python3",
      "display_name": "Python 3"
    }
  },
  "cells": [
    {
      "cell_type": "markdown",
      "metadata": {
        "id": "view-in-github",
        "colab_type": "text"
      },
      "source": [
        "<a href=\"https://colab.research.google.com/github/AshutoshAgrahari/GoogleColab/blob/master/Handwritten_Recognition_using_TensorFlow.ipynb\" target=\"_parent\"><img src=\"https://colab.research.google.com/assets/colab-badge.svg\" alt=\"Open In Colab\"/></a>"
      ]
    },
    {
      "metadata": {
        "id": "4LkYcqU08wtr",
        "colab_type": "text"
      },
      "cell_type": "markdown",
      "source": [
        "##Handwritten Recognition using TensorFlow\n",
        "\n",
        "Rrf: https://colab.research.google.com/github/lmoroney/dlaicourse/blob/master/Exercises/Exercise%202%20-%20Handwriting%20Recognition/Exercise2-Question.ipynb\n",
        "\n",
        "MNIST which has items of handwriting -- the digits 0 through 9.\n",
        "Building an MNIST classifier in tensorflow that trains to 99% accuracy or above, and does it without a fixed number of epochs -- i.e. the training should stop once it reaches that level of accuracy.\n",
        "\n",
        "Some notes:\n",
        "\n",
        "1. It should succeed in less than 10 epochs, so it is okay to change epochs to 10, but nothing larger\n",
        "2. When it reaches 99% or greater it should print out the string \"Reached 99% accuracy so cancelling training!\"\n",
        "3. If you add any additional variables, make sure you use the same names as the ones used in the class"
      ]
    },
    {
      "metadata": {
        "id": "XNlUulcu8k2F",
        "colab_type": "code",
        "outputId": "a04a7168-d5b2-4815-afdc-e616d6834858",
        "colab": {
          "base_uri": "https://localhost:8080/",
          "height": 235
        }
      },
      "cell_type": "code",
      "source": [
        "# Loading the library\n",
        "import tensorflow as tf\n",
        "from tensorflow import keras\n",
        "import numpy as np\n",
        "\n",
        "# Loading the mnist handwritten dataset form keras datasets.\n",
        "mnist = tf.keras.datasets.mnist\n",
        "\n",
        "# extracting training and testing images and labels\n",
        "(x_train, y_train),(x_test, y_test) = mnist.load_data()\n",
        "\n",
        "# Checking the dimension of x_train dataset\n",
        "# np.shape(x_train)\n",
        "\n",
        "# Printing digit grey scale image code and handwritten number details as labels\n",
        "# print(x_train[0])\n",
        "# print(y_train[0])\n",
        "\n",
        "# Normalizing the data from current scale of 0-255 to 0-1\n",
        "x_train, x_test = x_train/255.0, x_test/255.0\n",
        "\n",
        "# creating callback class which has on_epoch_end function to stop running multiple epochs when training reaches 99% accuracy.\n",
        "class myCallback(tf.keras.callbacks.Callback):\n",
        "  def on_epoch_end(self, epoch, logs={}):\n",
        "    if(logs.get('acc')>0.99):\n",
        "      print(\"\\nReached 99% accuracy, so cancelling training!\")\n",
        "      self.model.stop_training = True\n",
        "\n",
        "\n",
        "# creating object of myCallback class to call the function      \n",
        "callbacks = myCallback()\n",
        "\n",
        "# Building Neural Network model by\n",
        "# 1. Flating the matrix data in vector in 1st layer as input layer\n",
        "# 2. creating 512 neuron in 2nd layer which will pass the data only which is greater than or equal to 0.\n",
        "# 3. Output layer will have 10 neurons, each for one digit which is equal to number of labels.\n",
        "model = tf.keras.models.Sequential([tf.keras.layers.Flatten(input_shape =(28, 28)),\n",
        "                                   tf.keras.layers.Dense(512, activation= tf.nn.relu),\n",
        "                                   tf.keras.layers.Dense(10, activation= tf.nn.softmax)\n",
        "                                   ])\n",
        "\n",
        "# setting the optimizer, loss and metric.\n",
        "model.compile(optimizer='adam',\n",
        "              loss='sparse_categorical_crossentropy',\n",
        "              metrics=['accuracy'])\n",
        "\n",
        "\n",
        "# training the model with training dataset.\n",
        "model.fit(x_train, y_train, epochs = 10, callbacks =[callbacks])\n"
      ],
      "execution_count": 3,
      "outputs": [
        {
          "output_type": "stream",
          "text": [
            "Epoch 1/10\n",
            "60000/60000 [==============================] - 18s 298us/sample - loss: 0.1991 - acc: 0.9419\n",
            "Epoch 2/10\n",
            "60000/60000 [==============================] - 17s 287us/sample - loss: 0.0796 - acc: 0.9754\n",
            "Epoch 3/10\n",
            "60000/60000 [==============================] - 17s 286us/sample - loss: 0.0534 - acc: 0.9830\n",
            "Epoch 4/10\n",
            "60000/60000 [==============================] - 18s 294us/sample - loss: 0.0375 - acc: 0.9883\n",
            "Epoch 5/10\n",
            "59936/60000 [============================>.] - ETA: 0s - loss: 0.0271 - acc: 0.9913\n",
            "Reached 99% accuracy, so cancelling training!\n",
            "60000/60000 [==============================] - 18s 295us/sample - loss: 0.0271 - acc: 0.9913\n"
          ],
          "name": "stdout"
        },
        {
          "output_type": "execute_result",
          "data": {
            "text/plain": [
              "<tensorflow.python.keras.callbacks.History at 0x7f88567029b0>"
            ]
          },
          "metadata": {
            "tags": []
          },
          "execution_count": 3
        }
      ]
    },
    {
      "metadata": {
        "id": "IfKJDgty3n6E",
        "colab_type": "code",
        "colab": {
          "base_uri": "https://localhost:8080/",
          "height": 50
        },
        "outputId": "9708de78-3cec-4507-c341-b2cbfff547a6"
      },
      "cell_type": "code",
      "source": [
        "# Validating the Model with Test data\n",
        "model.evaluate(x_test, y_test)"
      ],
      "execution_count": 4,
      "outputs": [
        {
          "output_type": "stream",
          "text": [
            "10000/10000 [==============================] - 1s 66us/sample - loss: 0.0661 - acc: 0.9818\n"
          ],
          "name": "stdout"
        },
        {
          "output_type": "execute_result",
          "data": {
            "text/plain": [
              "[0.06611347748858389, 0.9818]"
            ]
          },
          "metadata": {
            "tags": []
          },
          "execution_count": 4
        }
      ]
    },
    {
      "metadata": {
        "id": "ZV_VsUJH4DNr",
        "colab_type": "code",
        "colab": {
          "base_uri": "https://localhost:8080/",
          "height": 67
        },
        "outputId": "844f752a-218b-4193-feeb-949c42d3997d"
      },
      "cell_type": "code",
      "source": [
        "#prevent numpy exponential \n",
        "#notation on print, default False\n",
        "#import numpy as np\n",
        "#np.set_printoptions(suppress = True)\n",
        "\n",
        "#classification = model.predict(x_test)\n",
        "i = 500\n",
        "if(np.argmax(np.array(classification[i])) == y_test[i]):\n",
        "  print(\"\\nRight Prediction\")\n",
        "else:\n",
        "  print(\"\\nWrong Prediction\")\n",
        "print(np.argmax(np.array(classification[i])))\n",
        "\n",
        "#print(classification[0])\n",
        "#print(y_test[0])"
      ],
      "execution_count": 29,
      "outputs": [
        {
          "output_type": "stream",
          "text": [
            "\n",
            "Right Prediction\n",
            "3\n"
          ],
          "name": "stdout"
        }
      ]
    }
  ]
}