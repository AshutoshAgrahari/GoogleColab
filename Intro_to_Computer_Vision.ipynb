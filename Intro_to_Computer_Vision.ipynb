{
  "nbformat": 4,
  "nbformat_minor": 0,
  "metadata": {
    "colab": {
      "name": "Intro to Computer Vision.ipynb",
      "version": "0.3.2",
      "provenance": [],
      "collapsed_sections": [],
      "include_colab_link": true
    },
    "kernelspec": {
      "name": "python3",
      "display_name": "Python 3"
    }
  },
  "cells": [
    {
      "cell_type": "markdown",
      "metadata": {
        "id": "view-in-github",
        "colab_type": "text"
      },
      "source": [
        "<a href=\"https://colab.research.google.com/github/AshutoshAgrahari/GoogleColab/blob/master/Intro_to_Computer_Vision.ipynb\" target=\"_parent\"><img src=\"https://colab.research.google.com/assets/colab-badge.svg\" alt=\"Open In Colab\"/></a>"
      ]
    },
    {
      "metadata": {
        "id": "ZOXvPtQozr4u",
        "colab_type": "text"
      },
      "cell_type": "markdown",
      "source": [
        "# Introduction to Computer Vision\n",
        "### Ref: https://github.com/zalandoresearch/fashion-mnist\n",
        "https://colab.research.google.com/github/lmoroney/dlaicourse/blob/master/Course%201%20-%20Part%204%20-%20Lesson%202%20-%20Notebook.ipynb"
      ]
    },
    {
      "metadata": {
        "id": "eQpc4_q8zm3e",
        "colab_type": "code",
        "colab": {}
      },
      "cell_type": "code",
      "source": [
        "# Loading the tensorflow and keras\n",
        "import tensorflow as tf\n",
        "from tensorflow import keras"
      ],
      "execution_count": 0,
      "outputs": []
    },
    {
      "metadata": {
        "id": "MLwQRM_xL0Hw",
        "colab_type": "code",
        "colab": {}
      },
      "cell_type": "code",
      "source": [
        "#prevent numpy exponential \n",
        "#notation on print, default False\n",
        "import numpy as np\n",
        "np.set_printoptions(suppress = True)"
      ],
      "execution_count": 0,
      "outputs": []
    },
    {
      "metadata": {
        "id": "v0XwS0N45YEa",
        "colab_type": "text"
      },
      "cell_type": "markdown",
      "source": [
        "Calling load_data on this object will give you two sets of two lists, these will be the training and testing values for the graphics that contain the clothing items and their labels."
      ]
    },
    {
      "metadata": {
        "id": "8WNq0OUt0MyT",
        "colab_type": "code",
        "outputId": "10042ef1-86e9-43f4-a0f8-95b733861a60",
        "colab": {
          "base_uri": "https://localhost:8080/",
          "height": 151
        }
      },
      "cell_type": "code",
      "source": [
        "# Loading Fashion-MNIST dataset from https://github.com/zalandoresearch/fashion-mnist\n",
        "fashion_mnist = keras.datasets.fashion_mnist\n",
        "(train_images, train_labels),(test_images,test_labels) = fashion_mnist.load_data()"
      ],
      "execution_count": 0,
      "outputs": [
        {
          "output_type": "stream",
          "text": [
            "Downloading data from https://storage.googleapis.com/tensorflow/tf-keras-datasets/train-labels-idx1-ubyte.gz\n",
            "32768/29515 [=================================] - 0s 0us/step\n",
            "Downloading data from https://storage.googleapis.com/tensorflow/tf-keras-datasets/train-images-idx3-ubyte.gz\n",
            "26427392/26421880 [==============================] - 0s 0us/step\n",
            "Downloading data from https://storage.googleapis.com/tensorflow/tf-keras-datasets/t10k-labels-idx1-ubyte.gz\n",
            "8192/5148 [===============================================] - 0s 0us/step\n",
            "Downloading data from https://storage.googleapis.com/tensorflow/tf-keras-datasets/t10k-images-idx3-ubyte.gz\n",
            "4423680/4422102 [==============================] - 0s 0us/step\n"
          ],
          "name": "stdout"
        }
      ]
    },
    {
      "metadata": {
        "id": "4l7_oAry5c1X",
        "colab_type": "text"
      },
      "cell_type": "markdown",
      "source": [
        "What does these values look like? Let's print a training image, and a training label to see...Experiment with different indices in the array. For example, also take a look at index 42...that's a a different boot than the one at index 0"
      ]
    },
    {
      "metadata": {
        "id": "bCiodxJn02CG",
        "colab_type": "code",
        "colab": {}
      },
      "cell_type": "code",
      "source": [
        "import matplotlib.pyplot as plt"
      ],
      "execution_count": 0,
      "outputs": []
    },
    {
      "metadata": {
        "id": "3QQ9sx8-51dX",
        "colab_type": "code",
        "colab": {}
      },
      "cell_type": "code",
      "source": [
        "plt.imshow(train_images[0])\n",
        "#print(train_labels[0])\n",
        "#print(train_images[0])"
      ],
      "execution_count": 0,
      "outputs": []
    },
    {
      "metadata": {
        "id": "3AL4XmMFqoZ_",
        "colab_type": "text"
      },
      "cell_type": "markdown",
      "source": [
        "You'll notice that all of the values in the number are between 0 and 255. If we are training a neural network, for various reasons it's easier if we treat all values as between 0 and 1, a process called 'normalizing'...and fortunately in Python it's easy to normalize a list like this without looping. You do it like this:"
      ]
    },
    {
      "metadata": {
        "id": "2JPzEZ8eqqWv",
        "colab_type": "code",
        "colab": {}
      },
      "cell_type": "code",
      "source": [
        "train_images = train_images/255\n",
        "test_images = test_images/255"
      ],
      "execution_count": 0,
      "outputs": []
    },
    {
      "metadata": {
        "id": "IGAaNBvuq7fj",
        "colab_type": "text"
      },
      "cell_type": "markdown",
      "source": [
        "Let's now design the model."
      ]
    },
    {
      "metadata": {
        "id": "eB_Ega13rN_E",
        "colab_type": "code",
        "colab": {}
      },
      "cell_type": "code",
      "source": [
        "model = tf.keras.models.Sequential([tf.keras.layers.Flatten(),\n",
        "                                   tf.keras.layers.Dense(128, activation=tf.nn.relu),\n",
        "                                   tf.keras.layers.Dense(10, activation=tf.nn.softmax)])"
      ],
      "execution_count": 0,
      "outputs": []
    },
    {
      "metadata": {
        "id": "tkuNcRjRr3Yc",
        "colab_type": "text"
      },
      "cell_type": "markdown",
      "source": [
        "**Sequential:** that defines a SEQUENCE of layers in neural network.\n",
        "\n",
        "**Flatten:** Images data has been stored in 2-dimensional matrix which needs to convert into 1-dimensional vector by flatten the square set into vector by rows.\n",
        "\n",
        "**Dense:** add a layer of neurons\n",
        "\n",
        "Each layer of neurons need an **activation function** to tell them what to do. It has many options available to choose an activation function.\n",
        "\n",
        "**Relu:** effectively mean \"if X >0 then return X, else return 0\" -- so what it does, it only passes values 0 or greater than to next layer in the network.\n",
        "\n",
        "**Softmax:** takes a set of values and effectively pick the biggest one,  so for example, if the output of the last layer looks like  [0.1, 0.1, 0.05, 0.1, 9.5, 0.1, 0.05, 0.05, 0.05], it saves from fishing through it looking for the biggest value, and turns it into [0,0,0,0,1,0,0,0,0] -- The goal is to save a lot of coding!"
      ]
    },
    {
      "metadata": {
        "id": "Miubv7O36H5m",
        "colab_type": "text"
      },
      "cell_type": "markdown",
      "source": [
        "The next thing to do, now the model is defined, is to actually build it. You do this by compiling it with an optimizer and loss function as before -- and then you train it by calling model.fit asking it to fit your training data to your training labels -- i.e. have it figure out the relationship between the training data and its actual labels, so in future if you have data that looks like the training data, then it can make a prediction for what that data would look like."
      ]
    },
    {
      "metadata": {
        "id": "A_Y3QtvC6JUq",
        "colab_type": "code",
        "outputId": "df892ea6-1b03-4e5f-fe10-ff37acf3cf51",
        "colab": {
          "base_uri": "https://localhost:8080/",
          "height": 87
        }
      },
      "cell_type": "code",
      "source": [
        "model.compile(optimizer= tf.train.AdamOptimizer(),\n",
        "             loss = 'sparse_categorical_crossentropy',\n",
        "             metrics = ['accuracy'])"
      ],
      "execution_count": 0,
      "outputs": [
        {
          "output_type": "stream",
          "text": [
            "WARNING:tensorflow:From /usr/local/lib/python3.6/dist-packages/tensorflow/python/ops/resource_variable_ops.py:435: colocate_with (from tensorflow.python.framework.ops) is deprecated and will be removed in a future version.\n",
            "Instructions for updating:\n",
            "Colocations handled automatically by placer.\n"
          ],
          "name": "stdout"
        }
      ]
    },
    {
      "metadata": {
        "id": "9zFCqtrh6jub",
        "colab_type": "code",
        "outputId": "9e92c734-0d21-474d-97be-6fcac6ceb774",
        "colab": {
          "base_uri": "https://localhost:8080/",
          "height": 538
        }
      },
      "cell_type": "code",
      "source": [
        "model.fit(train_images, train_labels, epochs=15 )"
      ],
      "execution_count": 0,
      "outputs": [
        {
          "output_type": "stream",
          "text": [
            "Epoch 1/15\n",
            "60000/60000 [==============================] - 5s 77us/sample - loss: 0.2817 - acc: 0.8955\n",
            "Epoch 2/15\n",
            "60000/60000 [==============================] - 5s 76us/sample - loss: 0.2694 - acc: 0.9003\n",
            "Epoch 3/15\n",
            "60000/60000 [==============================] - 5s 76us/sample - loss: 0.2584 - acc: 0.9044\n",
            "Epoch 4/15\n",
            "60000/60000 [==============================] - 5s 77us/sample - loss: 0.2501 - acc: 0.9068\n",
            "Epoch 5/15\n",
            "60000/60000 [==============================] - 5s 79us/sample - loss: 0.2405 - acc: 0.9104\n",
            "Epoch 6/15\n",
            "60000/60000 [==============================] - 5s 77us/sample - loss: 0.2326 - acc: 0.9131\n",
            "Epoch 7/15\n",
            "60000/60000 [==============================] - 5s 77us/sample - loss: 0.2254 - acc: 0.9153\n",
            "Epoch 8/15\n",
            "60000/60000 [==============================] - 5s 77us/sample - loss: 0.2166 - acc: 0.9186\n",
            "Epoch 9/15\n",
            "60000/60000 [==============================] - 5s 77us/sample - loss: 0.2118 - acc: 0.9221\n",
            "Epoch 10/15\n",
            "60000/60000 [==============================] - 5s 77us/sample - loss: 0.2034 - acc: 0.9247\n",
            "Epoch 11/15\n",
            "60000/60000 [==============================] - 5s 77us/sample - loss: 0.2012 - acc: 0.9242\n",
            "Epoch 12/15\n",
            "60000/60000 [==============================] - 5s 78us/sample - loss: 0.1939 - acc: 0.9271\n",
            "Epoch 13/15\n",
            "60000/60000 [==============================] - 5s 75us/sample - loss: 0.1884 - acc: 0.9296\n",
            "Epoch 14/15\n",
            "60000/60000 [==============================] - 5s 77us/sample - loss: 0.1846 - acc: 0.9302\n",
            "Epoch 15/15\n",
            "60000/60000 [==============================] - 5s 79us/sample - loss: 0.1807 - acc: 0.9328\n"
          ],
          "name": "stdout"
        },
        {
          "output_type": "execute_result",
          "data": {
            "text/plain": [
              "<tensorflow.python.keras.callbacks.History at 0x7f4fb8909cf8>"
            ]
          },
          "metadata": {
            "tags": []
          },
          "execution_count": 20
        }
      ]
    },
    {
      "metadata": {
        "id": "9CP0KRdx7hJ0",
        "colab_type": "code",
        "outputId": "3aed6bf9-b3f3-4a36-ed39-45b03bb1cd17",
        "colab": {
          "base_uri": "https://localhost:8080/",
          "height": 50
        }
      },
      "cell_type": "code",
      "source": [
        "model.evaluate(test_images, test_labels)"
      ],
      "execution_count": 0,
      "outputs": [
        {
          "output_type": "stream",
          "text": [
            "10000/10000 [==============================] - 0s 43us/sample - loss: 0.3717 - acc: 0.8787\n"
          ],
          "name": "stdout"
        },
        {
          "output_type": "execute_result",
          "data": {
            "text/plain": [
              "[0.37169571934938433, 0.8787]"
            ]
          },
          "metadata": {
            "tags": []
          },
          "execution_count": 23
        }
      ]
    },
    {
      "metadata": {
        "id": "Yqo36ZyzIJoE",
        "colab_type": "text"
      },
      "cell_type": "markdown",
      "source": [
        "For me, that returned a accuracy of about .8787, which means it was about 87% accurate. As expected it probably would not do as well with *unseen* data as it did with data it was trained on! "
      ]
    },
    {
      "metadata": {
        "id": "HuEBgpZyJrgg",
        "colab_type": "text"
      },
      "cell_type": "markdown",
      "source": [
        "#Exploration Exercises"
      ]
    },
    {
      "metadata": {
        "id": "UVKMxDPhJxcL",
        "colab_type": "text"
      },
      "cell_type": "markdown",
      "source": [
        "###Exercise 1:\n",
        "For this first exercise run the below code: It creates a set of classifications for each of the test images, and then prints the first entry in the classifications. The output, after you run it is a list of numbers. Why do you think this is, and what do those numbers represent? "
      ]
    },
    {
      "metadata": {
        "id": "60MRJkFCIOWq",
        "colab_type": "code",
        "colab": {}
      },
      "cell_type": "code",
      "source": [
        "classifications = model.predict(test_images)"
      ],
      "execution_count": 0,
      "outputs": []
    },
    {
      "metadata": {
        "id": "_c62c6jtKJou",
        "colab_type": "code",
        "outputId": "a54d589f-5d42-449c-a473-f8b46c66ab22",
        "colab": {
          "base_uri": "https://localhost:8080/",
          "height": 84
        }
      },
      "cell_type": "code",
      "source": [
        "print(classifications[0:2])\n",
        "#classifications[0]"
      ],
      "execution_count": 0,
      "outputs": [
        {
          "output_type": "stream",
          "text": [
            "[[0.         0.         0.         0.         0.         0.00000212\n",
            "  0.         0.00147068 0.         0.99852717]\n",
            " [0.00004924 0.         0.9997949  0.         0.00014319 0.00000002\n",
            "  0.00001267 0.         0.         0.        ]]\n"
          ],
          "name": "stdout"
        }
      ]
    },
    {
      "metadata": {
        "id": "636ncn74J_Mm",
        "colab_type": "code",
        "outputId": "cb37768a-c529-4d6f-ba54-67e100495241",
        "colab": {
          "base_uri": "https://localhost:8080/",
          "height": 34
        }
      },
      "cell_type": "code",
      "source": [
        "print(test_labels[0:2])"
      ],
      "execution_count": 0,
      "outputs": [
        {
          "output_type": "stream",
          "text": [
            "[9 2]\n"
          ],
          "name": "stdout"
        }
      ]
    },
    {
      "metadata": {
        "id": "oe_IFsypM2x-",
        "colab_type": "text"
      },
      "cell_type": "markdown",
      "source": [
        "model.predict will return the array with 10 numbers which is equal to labels. We have 10 different fashion garments images to recognise by machine.\n",
        "\n",
        "We can get the classified label from classifications as position of greatest number. For classification[0], we have hightest number is 0.99852717 at 9 position(counted from 0)"
      ]
    },
    {
      "metadata": {
        "id": "HeFTO3jCZRZn",
        "colab_type": "text"
      },
      "cell_type": "markdown",
      "source": [
        "##Exercise 2: \n",
        "Let's now look at the layers in your model. Experiment with different values for the dense layer with 512 neurons. What different results do you get for loss, training time etc? Why do you think that's the case? \n",
        "\n"
      ]
    },
    {
      "metadata": {
        "id": "aW-95wmNZTKr",
        "colab_type": "code",
        "outputId": "228aa254-a0b2-4699-ad6c-0eea5c2158a4",
        "colab": {
          "base_uri": "https://localhost:8080/",
          "height": 118
        }
      },
      "cell_type": "code",
      "source": [
        "import tensorflow as tf\n",
        "print(tf.__version__)\n",
        "\n",
        "class myCallback(tf.keras.callbacks.Callback):\n",
        "  def on_epoch_end(self, epoch, logs={}):\n",
        "    if(logs.get('loss')< 14):\n",
        "      print(\"\\nReached 60% accuracy so cancelling training!\")\n",
        "      self.model.stop_training = True\n",
        "\n",
        "callbacks = myCallback()\n",
        "\n",
        "Fashion_mnist = tf.keras.datasets.fashion_mnist\n",
        "#mnist = tf.keras.datasets.mnist\n",
        "(training_images, training_labels), (test_images, test_labels) = Fashion_mnist.load_data()\n",
        "\n",
        "training_image = training_images/255.0\n",
        "test_images = test_images/255.0\n",
        "\n",
        "#print(test_images[0])\n",
        "\n",
        "model = tf.keras.models.Sequential([tf.keras.layers.Flatten(input_shape=(28, 28)),\n",
        "                                   #tf.keras.layers.Dense(128, activation = tf.nn.relu),\n",
        "                                   tf.keras.layers.Dense(512, activation = tf.nn.relu), \n",
        "                                   tf.keras.layers.Dense(10, activation = tf.nn.softmax)])\n",
        "\n",
        "model.compile(#optimizer= 'adam',\n",
        "              optimizer=tf.train.AdamOptimizer(),\n",
        "             loss = 'sparse_categorical_crossentropy'\n",
        " #            metrics = ['accuracy']\n",
        ")\n",
        "\n",
        "model.fit(training_images, training_labels, epochs= 5, callbacks = [callbacks])\n",
        "\n",
        "#model.evaluate(test_images, test_labels)\n",
        "\n",
        "#classifications = model.predict(test_images)\n",
        "\n",
        "#print(classifications[1000])\n",
        "#print(test_labels[1000])"
      ],
      "execution_count": 93,
      "outputs": [
        {
          "output_type": "stream",
          "text": [
            "1.13.1\n",
            "Epoch 1/5\n",
            "59648/60000 [============================>.] - ETA: 0s - loss: 13.2475\n",
            "Reached 60% accuracy so cancelling training!\n",
            "60000/60000 [==============================] - 12s 198us/sample - loss: 13.2437\n"
          ],
          "name": "stdout"
        },
        {
          "output_type": "execute_result",
          "data": {
            "text/plain": [
              "<tensorflow.python.keras.callbacks.History at 0x7f4fb0c32048>"
            ]
          },
          "metadata": {
            "tags": []
          },
          "execution_count": 93
        }
      ]
    },
    {
      "metadata": {
        "id": "vCNoinMN7bSO",
        "colab_type": "code",
        "colab": {
          "base_uri": "https://localhost:8080/",
          "height": 134
        },
        "outputId": "c80e57bf-f777-4dba-8530-ddc4bf1c5e50"
      },
      "cell_type": "code",
      "source": [
        "import tensorflow as tf\n",
        "\n",
        "class myCallback(tf.keras.callbacks.Callback):\n",
        "  def on_epoch_end(self, epoch, logs={}):\n",
        "    if(logs.get('acc')>0.85):\n",
        "      print(\"\\nReached 60% accuracy so cancelling training!\")\n",
        "      self.model.stop_training = True\n",
        "\n",
        "mnist = tf.keras.datasets.fashion_mnist\n",
        "\n",
        "(x_train, y_train),(x_test, y_test) = mnist.load_data()\n",
        "x_train, x_test = x_train / 255.0, x_test / 255.0\n",
        "\n",
        "callbacks = myCallback()\n",
        "\n",
        "model = tf.keras.models.Sequential([\n",
        "  tf.keras.layers.Flatten(input_shape=(28, 28)),\n",
        "  tf.keras.layers.Dense(256, activation=tf.nn.relu),\n",
        "  tf.keras.layers.Dense(10, activation=tf.nn.softmax)\n",
        "])\n",
        "model.compile(optimizer='adam',\n",
        "              loss='sparse_categorical_crossentropy',\n",
        "              metrics=['accuracy'])\n",
        "\n",
        "model.fit(x_train, y_train, epochs=10, callbacks=[callbacks])"
      ],
      "execution_count": 84,
      "outputs": [
        {
          "output_type": "stream",
          "text": [
            "Epoch 1/10\n",
            "60000/60000 [==============================] - 10s 162us/sample - loss: 0.4819 - acc: 0.8306\n",
            "Epoch 2/10\n",
            "59904/60000 [============================>.] - ETA: 0s - loss: 0.3644 - acc: 0.8672\n",
            "Reached 60% accuracy so cancelling training!\n",
            "60000/60000 [==============================] - 12s 197us/sample - loss: 0.3643 - acc: 0.8672\n"
          ],
          "name": "stdout"
        },
        {
          "output_type": "execute_result",
          "data": {
            "text/plain": [
              "<tensorflow.python.keras.callbacks.History at 0x7f4fb30378d0>"
            ]
          },
          "metadata": {
            "tags": []
          },
          "execution_count": 84
        }
      ]
    }
  ]
}