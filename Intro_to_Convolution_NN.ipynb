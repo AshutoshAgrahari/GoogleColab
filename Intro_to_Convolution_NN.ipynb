{
  "nbformat": 4,
  "nbformat_minor": 0,
  "metadata": {
    "colab": {
      "name": "Intro to Convolution NN.ipynb",
      "version": "0.3.2",
      "provenance": [],
      "collapsed_sections": [],
      "include_colab_link": true
    },
    "kernelspec": {
      "name": "python3",
      "display_name": "Python 3"
    },
    "accelerator": "GPU"
  },
  "cells": [
    {
      "cell_type": "markdown",
      "metadata": {
        "id": "view-in-github",
        "colab_type": "text"
      },
      "source": [
        "<a href=\"https://colab.research.google.com/github/AshutoshAgrahari/GoogleColab/blob/master/Intro_to_Convolution_NN.ipynb\" target=\"_parent\"><img src=\"https://colab.research.google.com/assets/colab-badge.svg\" alt=\"Open In Colab\"/></a>"
      ]
    },
    {
      "metadata": {
        "id": "EcdPtazm_g7P",
        "colab_type": "text"
      },
      "cell_type": "markdown",
      "source": [
        "### Convolution Neural Network\n",
        "\n",
        "##### Ref: https://colab.research.google.com/github/lmoroney/dlaicourse/blob/master/Course%201%20-%20Part%206%20-%20Lesson%202%20-%20Notebook.ipynb"
      ]
    },
    {
      "metadata": {
        "id": "ESy659839iNh",
        "colab_type": "code",
        "outputId": "27d66604-c050-4f1e-d760-ef6107a0aeae",
        "colab": {
          "base_uri": "https://localhost:8080/",
          "height": 272
        }
      },
      "cell_type": "code",
      "source": [
        "# loading the libraries\n",
        "#import tensorflow as tf \n",
        "#from tensorflow import keras\n",
        "\n",
        "# loading MNIST Fashion Dataset\n",
        "#mnist = tf.keras.datasets.fashion_mnist\n",
        "#(training_images, training_labels), (test_images, test_labels) = mnist.load_data()\n",
        "\n",
        "# Normalizing the Data\n",
        "#training_images=training_images / 255.0\n",
        "#test_images=test_images / 255.0\n",
        "\n",
        "# buidling the model\n",
        "model = tf.keras.Sequential([\n",
        "    tf.keras.layers.Flatten(input_shape=(28,28)),\n",
        "    tf.keras.layers.Dense(128, activation=tf.nn.relu),\n",
        "    tf.keras.layers.Dense(10, activation=tf.nn.softmax)\n",
        "])\n",
        "\n",
        "model.compile(optimizer = \"adam\",\n",
        "             loss = \"sparse_categorical_crossentropy\",\n",
        "             metrics = ['accuracy'])\n",
        "model.fit(training_images, training_labels, epochs = 5)\n",
        "  "
      ],
      "execution_count": 0,
      "outputs": [
        {
          "output_type": "stream",
          "text": [
            "WARNING:tensorflow:From /usr/local/lib/python3.6/dist-packages/tensorflow/python/ops/resource_variable_ops.py:435: colocate_with (from tensorflow.python.framework.ops) is deprecated and will be removed in a future version.\n",
            "Instructions for updating:\n",
            "Colocations handled automatically by placer.\n",
            "Epoch 1/5\n",
            "60000/60000 [==============================] - 8s 131us/sample - loss: 0.4963 - acc: 0.8253\n",
            "Epoch 2/5\n",
            "60000/60000 [==============================] - 7s 123us/sample - loss: 0.3771 - acc: 0.8639\n",
            "Epoch 3/5\n",
            "60000/60000 [==============================] - 7s 109us/sample - loss: 0.3389 - acc: 0.8771\n",
            "Epoch 4/5\n",
            "60000/60000 [==============================] - 7s 122us/sample - loss: 0.3133 - acc: 0.8851\n",
            "Epoch 5/5\n",
            "60000/60000 [==============================] - 8s 127us/sample - loss: 0.2962 - acc: 0.8910\n"
          ],
          "name": "stdout"
        },
        {
          "output_type": "execute_result",
          "data": {
            "text/plain": [
              "<tensorflow.python.keras.callbacks.History at 0x7f4b0030c320>"
            ]
          },
          "metadata": {
            "tags": []
          },
          "execution_count": 12
        }
      ]
    },
    {
      "metadata": {
        "id": "6pu46UbskcVb",
        "colab_type": "code",
        "outputId": "0ad9a188-0a1e-4c41-d4c9-72146dd3a0be",
        "colab": {
          "base_uri": "https://localhost:8080/",
          "height": 34
        }
      },
      "cell_type": "code",
      "source": [
        "#print(training_images[0])\n",
        "#import numpy as np\n",
        "#np.shape(training_images[0])\n",
        "test_loss = model.evaluate(test_images, test_labels)"
      ],
      "execution_count": 0,
      "outputs": [
        {
          "output_type": "stream",
          "text": [
            "10000/10000 [==============================] - 0s 45us/sample - loss: 0.3455 - acc: 0.8749\n"
          ],
          "name": "stdout"
        }
      ]
    },
    {
      "metadata": {
        "id": "GwwTVyiLwSje",
        "colab_type": "code",
        "outputId": "a2869013-2a08-40d9-c330-3cd01ea8c8b9",
        "colab": {
          "base_uri": "https://localhost:8080/",
          "height": 756
        }
      },
      "cell_type": "code",
      "source": [
        "#import tensorflow as tf\n",
        "#print(tf.__version__)\n",
        "\n",
        "#mnist = tf.keras.datasets.fashion_mnist\n",
        "\n",
        "#(train_images, train_labels),(test_images, test_labels) = mnist.load_data()\n",
        "\n",
        "#train_images = train_images.reshape(60000, 28, 28, 1)\n",
        "#train_images = train_images/255.0\n",
        "\n",
        "#test_images = test_images.reshape(10000, 28, 28, 1)\n",
        "#test_images = test_images/255.0\n",
        "\n",
        "#print(test_images[0])\n",
        "\n",
        "class myCallback(tf.keras.callbacks.Callback):\n",
        "  def on_epoch_end(self, epoch, logs={}):\n",
        "    if(logs.get('acc')>0.98):\n",
        "      print(\"\\nReached 92% accuracy so cancelling training!\")\n",
        "      self.model.stop_training = True\n",
        "\n",
        "callbacks = myCallback()\n",
        "      \n",
        "model = tf.keras.Sequential([\n",
        "    tf.keras.layers.Conv2D(32, (3,3), activation='relu', input_shape =(28, 28, 1)),\n",
        "    tf.keras.layers.MaxPooling2D(2,2),\n",
        "    #tf.keras.layers.Conv2D(32, (3,3), activation='relu'),\n",
        "    #tf.keras.layers.MaxPooling2D(2,2),\n",
        "    tf.keras.layers.Flatten(),\n",
        "    tf.keras.layers.Dense(128,activation=tf.nn.relu),\n",
        "    tf.keras.layers.Dense(10, activation=tf.nn.softmax)\n",
        "])\n",
        "\n",
        "model.compile(optimizer = \"adam\",\n",
        "             loss = \"sparse_categorical_crossentropy\",\n",
        "             metrics = ['accuracy'])\n",
        "\n",
        "model.summary()\n",
        "model.fit(train_images, train_labels, epochs=20, callbacks=[callbacks])\n",
        "test_loss = model.evaluate(test_images, test_labels)"
      ],
      "execution_count": 10,
      "outputs": [
        {
          "output_type": "stream",
          "text": [
            "_________________________________________________________________\n",
            "Layer (type)                 Output Shape              Param #   \n",
            "=================================================================\n",
            "conv2d_17 (Conv2D)           (None, 26, 26, 32)        320       \n",
            "_________________________________________________________________\n",
            "max_pooling2d_17 (MaxPooling (None, 13, 13, 32)        0         \n",
            "_________________________________________________________________\n",
            "flatten_9 (Flatten)          (None, 5408)              0         \n",
            "_________________________________________________________________\n",
            "dense_18 (Dense)             (None, 128)               692352    \n",
            "_________________________________________________________________\n",
            "dense_19 (Dense)             (None, 10)                1290      \n",
            "=================================================================\n",
            "Total params: 693,962\n",
            "Trainable params: 693,962\n",
            "Non-trainable params: 0\n",
            "_________________________________________________________________\n",
            "Epoch 1/20\n",
            "60000/60000 [==============================] - 11s 186us/sample - loss: 0.3920 - acc: 0.8616\n",
            "Epoch 2/20\n",
            "60000/60000 [==============================] - 11s 183us/sample - loss: 0.2661 - acc: 0.9035\n",
            "Epoch 3/20\n",
            "60000/60000 [==============================] - 11s 184us/sample - loss: 0.2218 - acc: 0.9193\n",
            "Epoch 4/20\n",
            "60000/60000 [==============================] - 11s 183us/sample - loss: 0.1871 - acc: 0.9309\n",
            "Epoch 5/20\n",
            "60000/60000 [==============================] - 11s 183us/sample - loss: 0.1585 - acc: 0.9406\n",
            "Epoch 6/20\n",
            "60000/60000 [==============================] - 11s 182us/sample - loss: 0.1358 - acc: 0.9506\n",
            "Epoch 7/20\n",
            "60000/60000 [==============================] - 11s 183us/sample - loss: 0.1158 - acc: 0.9571\n",
            "Epoch 8/20\n",
            "60000/60000 [==============================] - 11s 182us/sample - loss: 0.0976 - acc: 0.9643\n",
            "Epoch 9/20\n",
            "60000/60000 [==============================] - 11s 185us/sample - loss: 0.0855 - acc: 0.9677\n",
            "Epoch 10/20\n",
            "60000/60000 [==============================] - 11s 184us/sample - loss: 0.0710 - acc: 0.9740\n",
            "Epoch 11/20\n",
            "60000/60000 [==============================] - 11s 185us/sample - loss: 0.0613 - acc: 0.9775\n",
            "Epoch 12/20\n",
            "59776/60000 [============================>.] - ETA: 0s - loss: 0.0505 - acc: 0.9818\n",
            "Reached 92% accuracy so cancelling training!\n",
            "60000/60000 [==============================] - 11s 182us/sample - loss: 0.0506 - acc: 0.9818\n",
            "10000/10000 [==============================] - 1s 90us/sample - loss: 0.3487 - acc: 0.9134\n"
          ],
          "name": "stdout"
        }
      ]
    },
    {
      "metadata": {
        "id": "m26Ud4s4BzWu",
        "colab_type": "text"
      },
      "cell_type": "markdown",
      "source": [
        "# Visualizing the Convolutions and Pooling"
      ]
    },
    {
      "metadata": {
        "id": "tLPEYuQPBB8Q",
        "colab_type": "code",
        "outputId": "00ed49cd-77d1-4b97-ff64-d0f5d93dc61a",
        "colab": {
          "base_uri": "https://localhost:8080/",
          "height": 67
        }
      },
      "cell_type": "code",
      "source": [
        "#print(test_labels[:100])\n",
        "print(test_labels[0])\n",
        "print(test_labels[23])\n",
        "print(test_labels[28])\n"
      ],
      "execution_count": 0,
      "outputs": [
        {
          "output_type": "stream",
          "text": [
            "9\n",
            "9\n",
            "9\n"
          ],
          "name": "stdout"
        }
      ]
    },
    {
      "metadata": {
        "id": "NRYMPVBkB5Gj",
        "colab_type": "code",
        "outputId": "b4337eb4-d31d-4733-c864-00bb5ef9903e",
        "colab": {
          "base_uri": "https://localhost:8080/",
          "height": 349
        }
      },
      "cell_type": "code",
      "source": [
        "#import matplotlib.pyplot as plt\n",
        "f, axarr = plt.subplots(3,4)\n",
        "FIRST_IMAGE=0\n",
        "SECOND_IMAGE=23\n",
        "THIRD_IMAGE=28\n",
        "CONVOLUTION_NUMBER = 1\n",
        "from tensorflow.keras import models\n",
        "layer_outputs = [layer.output for layer in model.layers]\n",
        "activation_model = tf.keras.models.Model(inputs = model.input, outputs = layer_outputs)\n",
        "for x in range(0,4):\n",
        "  f1 = activation_model.predict(test_images[FIRST_IMAGE].reshape(1, 28, 28, 1))[x]\n",
        "  axarr[0,x].imshow(f1[0, : , :, CONVOLUTION_NUMBER], cmap='inferno')\n",
        "  axarr[0,x].grid(False)\n",
        "  f2 = activation_model.predict(test_images[SECOND_IMAGE].reshape(1, 28, 28, 1))[x]\n",
        "  axarr[1,x].imshow(f2[0, : , :, CONVOLUTION_NUMBER], cmap='inferno')\n",
        "  axarr[1,x].grid(False)\n",
        "  f3 = activation_model.predict(test_images[THIRD_IMAGE].reshape(1, 28, 28, 1))[x]\n",
        "  axarr[2,x].imshow(f3[0, : , :, CONVOLUTION_NUMBER], cmap='inferno')\n",
        "  axarr[2,x].grid(False)"
      ],
      "execution_count": 0,
      "outputs": [
        {
          "output_type": "display_data",
          "data": {
            "image/png": "[encoded data removed]",
            "text/plain": [
              "<Figure size 576x396 with 12 Axes>"
            ]
          },
          "metadata": {
            "tags": []
          }
        }
      ]
    }
  ]
}